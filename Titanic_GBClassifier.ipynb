{
 "cells": [
  {
   "cell_type": "code",
   "execution_count": 24,
   "metadata": {},
   "outputs": [],
   "source": [
    "import pandas as pd\n",
    "import numpy as np\n",
    "import matplotlib\n",
    "from pandas.plotting import table\n",
    "\n",
    "%matplotlib inline"
   ]
  },
  {
   "cell_type": "code",
   "execution_count": 25,
   "metadata": {},
   "outputs": [],
   "source": [
    "train = pd.read_csv('/Users/BrianLee/Desktop/input/titanic_train.csv')\n",
    "test = pd.read_csv('/Users/BrianLee/Desktop/input/titanic_test.csv')"
   ]
  },
  {
   "cell_type": "code",
   "execution_count": 26,
   "metadata": {},
   "outputs": [],
   "source": [
    "train, test = train[['PassengerId','Survived','Sex','Pclass','Age']], test[['PassengerId','Sex','Pclass','Age']]"
   ]
  },
  {
   "cell_type": "code",
   "execution_count": 27,
   "metadata": {},
   "outputs": [],
   "source": [
    "titanic_train_test = train.append(test)\n",
    "\n",
    "titanic_train_test['Age'] = titanic_train_test['Age'].fillna(train['Age'].median())\n",
    "\n",
    "titanic_Age_range = [(0,10),(11,20),(21,30),(31,50),(51,100)]\n",
    "\n",
    "Age_range = []\n",
    "titanic_Age_int = list(map(int,titanic_train_test.Age.values))\n",
    "for j in range(len(titanic_Age_int)):\n",
    "    for i in range(len(titanic_Age_range)):\n",
    "        if titanic_Age_int[j] in range(titanic_Age_range[i][0],titanic_Age_range[i][1]):\n",
    "            age_range = titanic_Age_range[i]\n",
    "        else:\n",
    "            pass\n",
    "    Age_range.append(age_range)\n",
    "titanic_train_test['Age_range'] = Age_range"
   ]
  },
  {
   "cell_type": "code",
   "execution_count": 28,
   "metadata": {},
   "outputs": [],
   "source": [
    "titanic_train_relevant = titanic_train_test[titanic_train_test['PassengerId']<=len(train)]\n",
    "titanic_test_relevant = titanic_train_test[titanic_train_test['PassengerId']>len(train)]\n",
    "titanic_train_relevant = titanic_train_relevant.drop(['Age'], axis=1)\n",
    "titanic_test_relevant = titanic_test_relevant.drop(['Age','Survived'], axis=1)\n",
    "titanic_train_test_relevant = titanic_train_relevant.append(titanic_test_relevant)\n",
    "titanic_train_test_relevant = titanic_train_test_relevant.drop('Survived', axis=1)\n",
    "titanic_train_test_relevant = titanic_train_test_relevant.set_index('PassengerId')\n"
   ]
  },
  {
   "cell_type": "code",
   "execution_count": 29,
   "metadata": {},
   "outputs": [],
   "source": [
    "titanic_train_test_relevant = pd.get_dummies(titanic_train_test_relevant, columns=list(titanic_train_test_relevant.columns.values))"
   ]
  },
  {
   "cell_type": "code",
   "execution_count": 30,
   "metadata": {},
   "outputs": [],
   "source": [
    "titanic_train_final=titanic_train_test_relevant.iloc[0:len(train)]\n",
    "titanic_test_final=titanic_train_test_relevant.iloc[len(train):len(titanic_train_test_relevant)]"
   ]
  },
  {
   "cell_type": "code",
   "execution_count": 31,
   "metadata": {},
   "outputs": [],
   "source": [
    "titanic_train_target = titanic_train_relevant['Survived'].astype(int)"
   ]
  },
  {
   "cell_type": "code",
   "execution_count": 32,
   "metadata": {},
   "outputs": [
    {
     "data": {
      "text/html": [
       "<div>\n",
       "<style scoped>\n",
       "    .dataframe tbody tr th:only-of-type {\n",
       "        vertical-align: middle;\n",
       "    }\n",
       "\n",
       "    .dataframe tbody tr th {\n",
       "        vertical-align: top;\n",
       "    }\n",
       "\n",
       "    .dataframe thead th {\n",
       "        text-align: right;\n",
       "    }\n",
       "</style>\n",
       "<table border=\"1\" class=\"dataframe\">\n",
       "  <thead>\n",
       "    <tr style=\"text-align: right;\">\n",
       "      <th></th>\n",
       "      <th>Age_range_(0, 10)</th>\n",
       "      <th>Age_range_(11, 20)</th>\n",
       "      <th>Age_range_(21, 30)</th>\n",
       "      <th>Age_range_(31, 50)</th>\n",
       "      <th>Age_range_(51, 100)</th>\n",
       "      <th>Pclass_1</th>\n",
       "      <th>Pclass_2</th>\n",
       "      <th>Pclass_3</th>\n",
       "      <th>Sex_female</th>\n",
       "      <th>Sex_male</th>\n",
       "    </tr>\n",
       "    <tr>\n",
       "      <th>PassengerId</th>\n",
       "      <th></th>\n",
       "      <th></th>\n",
       "      <th></th>\n",
       "      <th></th>\n",
       "      <th></th>\n",
       "      <th></th>\n",
       "      <th></th>\n",
       "      <th></th>\n",
       "      <th></th>\n",
       "      <th></th>\n",
       "    </tr>\n",
       "  </thead>\n",
       "  <tbody>\n",
       "    <tr>\n",
       "      <th>1</th>\n",
       "      <td>0</td>\n",
       "      <td>0</td>\n",
       "      <td>1</td>\n",
       "      <td>0</td>\n",
       "      <td>0</td>\n",
       "      <td>0</td>\n",
       "      <td>0</td>\n",
       "      <td>1</td>\n",
       "      <td>0</td>\n",
       "      <td>1</td>\n",
       "    </tr>\n",
       "    <tr>\n",
       "      <th>2</th>\n",
       "      <td>0</td>\n",
       "      <td>0</td>\n",
       "      <td>0</td>\n",
       "      <td>1</td>\n",
       "      <td>0</td>\n",
       "      <td>1</td>\n",
       "      <td>0</td>\n",
       "      <td>0</td>\n",
       "      <td>1</td>\n",
       "      <td>0</td>\n",
       "    </tr>\n",
       "    <tr>\n",
       "      <th>3</th>\n",
       "      <td>0</td>\n",
       "      <td>0</td>\n",
       "      <td>1</td>\n",
       "      <td>0</td>\n",
       "      <td>0</td>\n",
       "      <td>0</td>\n",
       "      <td>0</td>\n",
       "      <td>1</td>\n",
       "      <td>1</td>\n",
       "      <td>0</td>\n",
       "    </tr>\n",
       "    <tr>\n",
       "      <th>4</th>\n",
       "      <td>0</td>\n",
       "      <td>0</td>\n",
       "      <td>0</td>\n",
       "      <td>1</td>\n",
       "      <td>0</td>\n",
       "      <td>1</td>\n",
       "      <td>0</td>\n",
       "      <td>0</td>\n",
       "      <td>1</td>\n",
       "      <td>0</td>\n",
       "    </tr>\n",
       "    <tr>\n",
       "      <th>5</th>\n",
       "      <td>0</td>\n",
       "      <td>0</td>\n",
       "      <td>0</td>\n",
       "      <td>1</td>\n",
       "      <td>0</td>\n",
       "      <td>0</td>\n",
       "      <td>0</td>\n",
       "      <td>1</td>\n",
       "      <td>0</td>\n",
       "      <td>1</td>\n",
       "    </tr>\n",
       "  </tbody>\n",
       "</table>\n",
       "</div>"
      ],
      "text/plain": [
       "             Age_range_(0, 10)  Age_range_(11, 20)  Age_range_(21, 30)  \\\n",
       "PassengerId                                                              \n",
       "1                            0                   0                   1   \n",
       "2                            0                   0                   0   \n",
       "3                            0                   0                   1   \n",
       "4                            0                   0                   0   \n",
       "5                            0                   0                   0   \n",
       "\n",
       "             Age_range_(31, 50)  Age_range_(51, 100)  Pclass_1  Pclass_2  \\\n",
       "PassengerId                                                                \n",
       "1                             0                    0         0         0   \n",
       "2                             1                    0         1         0   \n",
       "3                             0                    0         0         0   \n",
       "4                             1                    0         1         0   \n",
       "5                             1                    0         0         0   \n",
       "\n",
       "             Pclass_3  Sex_female  Sex_male  \n",
       "PassengerId                                  \n",
       "1                   1           0         1  \n",
       "2                   0           1         0  \n",
       "3                   1           1         0  \n",
       "4                   0           1         0  \n",
       "5                   1           0         1  "
      ]
     },
     "execution_count": 32,
     "metadata": {},
     "output_type": "execute_result"
    }
   ],
   "source": [
    "titanic_train_final.head()"
   ]
  },
  {
   "cell_type": "code",
   "execution_count": 33,
   "metadata": {},
   "outputs": [
    {
     "data": {
      "text/html": [
       "<div>\n",
       "<style scoped>\n",
       "    .dataframe tbody tr th:only-of-type {\n",
       "        vertical-align: middle;\n",
       "    }\n",
       "\n",
       "    .dataframe tbody tr th {\n",
       "        vertical-align: top;\n",
       "    }\n",
       "\n",
       "    .dataframe thead th {\n",
       "        text-align: right;\n",
       "    }\n",
       "</style>\n",
       "<table border=\"1\" class=\"dataframe\">\n",
       "  <thead>\n",
       "    <tr style=\"text-align: right;\">\n",
       "      <th></th>\n",
       "      <th>Age_range_(0, 10)</th>\n",
       "      <th>Age_range_(11, 20)</th>\n",
       "      <th>Age_range_(21, 30)</th>\n",
       "      <th>Age_range_(31, 50)</th>\n",
       "      <th>Age_range_(51, 100)</th>\n",
       "      <th>Pclass_1</th>\n",
       "      <th>Pclass_2</th>\n",
       "      <th>Pclass_3</th>\n",
       "      <th>Sex_female</th>\n",
       "      <th>Sex_male</th>\n",
       "    </tr>\n",
       "    <tr>\n",
       "      <th>PassengerId</th>\n",
       "      <th></th>\n",
       "      <th></th>\n",
       "      <th></th>\n",
       "      <th></th>\n",
       "      <th></th>\n",
       "      <th></th>\n",
       "      <th></th>\n",
       "      <th></th>\n",
       "      <th></th>\n",
       "      <th></th>\n",
       "    </tr>\n",
       "  </thead>\n",
       "  <tbody>\n",
       "    <tr>\n",
       "      <th>892</th>\n",
       "      <td>0</td>\n",
       "      <td>0</td>\n",
       "      <td>0</td>\n",
       "      <td>1</td>\n",
       "      <td>0</td>\n",
       "      <td>0</td>\n",
       "      <td>0</td>\n",
       "      <td>1</td>\n",
       "      <td>0</td>\n",
       "      <td>1</td>\n",
       "    </tr>\n",
       "    <tr>\n",
       "      <th>893</th>\n",
       "      <td>0</td>\n",
       "      <td>0</td>\n",
       "      <td>0</td>\n",
       "      <td>1</td>\n",
       "      <td>0</td>\n",
       "      <td>0</td>\n",
       "      <td>0</td>\n",
       "      <td>1</td>\n",
       "      <td>1</td>\n",
       "      <td>0</td>\n",
       "    </tr>\n",
       "    <tr>\n",
       "      <th>894</th>\n",
       "      <td>0</td>\n",
       "      <td>0</td>\n",
       "      <td>0</td>\n",
       "      <td>0</td>\n",
       "      <td>1</td>\n",
       "      <td>0</td>\n",
       "      <td>1</td>\n",
       "      <td>0</td>\n",
       "      <td>0</td>\n",
       "      <td>1</td>\n",
       "    </tr>\n",
       "    <tr>\n",
       "      <th>895</th>\n",
       "      <td>0</td>\n",
       "      <td>0</td>\n",
       "      <td>1</td>\n",
       "      <td>0</td>\n",
       "      <td>0</td>\n",
       "      <td>0</td>\n",
       "      <td>0</td>\n",
       "      <td>1</td>\n",
       "      <td>0</td>\n",
       "      <td>1</td>\n",
       "    </tr>\n",
       "    <tr>\n",
       "      <th>896</th>\n",
       "      <td>0</td>\n",
       "      <td>0</td>\n",
       "      <td>1</td>\n",
       "      <td>0</td>\n",
       "      <td>0</td>\n",
       "      <td>0</td>\n",
       "      <td>0</td>\n",
       "      <td>1</td>\n",
       "      <td>1</td>\n",
       "      <td>0</td>\n",
       "    </tr>\n",
       "  </tbody>\n",
       "</table>\n",
       "</div>"
      ],
      "text/plain": [
       "             Age_range_(0, 10)  Age_range_(11, 20)  Age_range_(21, 30)  \\\n",
       "PassengerId                                                              \n",
       "892                          0                   0                   0   \n",
       "893                          0                   0                   0   \n",
       "894                          0                   0                   0   \n",
       "895                          0                   0                   1   \n",
       "896                          0                   0                   1   \n",
       "\n",
       "             Age_range_(31, 50)  Age_range_(51, 100)  Pclass_1  Pclass_2  \\\n",
       "PassengerId                                                                \n",
       "892                           1                    0         0         0   \n",
       "893                           1                    0         0         0   \n",
       "894                           0                    1         0         1   \n",
       "895                           0                    0         0         0   \n",
       "896                           0                    0         0         0   \n",
       "\n",
       "             Pclass_3  Sex_female  Sex_male  \n",
       "PassengerId                                  \n",
       "892                 1           0         1  \n",
       "893                 1           1         0  \n",
       "894                 0           0         1  \n",
       "895                 1           0         1  \n",
       "896                 1           1         0  "
      ]
     },
     "execution_count": 33,
     "metadata": {},
     "output_type": "execute_result"
    }
   ],
   "source": [
    "titanic_test_final.head()"
   ]
  },
  {
   "cell_type": "code",
   "execution_count": 34,
   "metadata": {},
   "outputs": [],
   "source": [
    "from sklearn.model_selection import KFold\n",
    "from sklearn import metrics\n",
    "from sklearn.ensemble import GradientBoostingClassifier"
   ]
  },
  {
   "cell_type": "code",
   "execution_count": 35,
   "metadata": {},
   "outputs": [],
   "source": [
    "gbm = GradientBoostingClassifier()"
   ]
  },
  {
   "cell_type": "code",
   "execution_count": 36,
   "metadata": {},
   "outputs": [],
   "source": [
    "X_train = titanic_train_final\n",
    "y_train = titanic_train_target"
   ]
  },
  {
   "cell_type": "code",
   "execution_count": 14,
   "metadata": {},
   "outputs": [],
   "source": [
    "def find_predicted_values(X_train, y_train,n, ml_algo):\n",
    "    #n = number of cross validation folds\n",
    "    #ml_algo = machine learning algorithms\n",
    "    predictions = []\n",
    "    kf = KFold(800)#n_splits=n\n",
    "    \n",
    "    for train, test in kf.split(X_train,y_train):\n",
    "        train_data = X_train.iloc[train,:]\n",
    "        target_data = y_train.iloc[train]\n",
    "        ml_algo.fit(train_data,target_data)\n",
    "        test_predict = ml_algo.predict(X_train.iloc[test,:])\n",
    "        predictions.append(test_predict)\n",
    "    predictions=np.concatenate(predictions)\n",
    "    return predictions"
   ]
  },
  {
   "cell_type": "code",
   "execution_count": 37,
   "metadata": {},
   "outputs": [],
   "source": [
    "gbm_predictions = find_predicted_values(X_train,y_train,4,gbm)"
   ]
  },
  {
   "cell_type": "code",
   "execution_count": 38,
   "metadata": {},
   "outputs": [
    {
     "name": "stdout",
     "output_type": "stream",
     "text": [
      "0.809203142536\n"
     ]
    }
   ],
   "source": [
    "print(metrics.accuracy_score(y_train,gbm_predictions))"
   ]
  },
  {
   "cell_type": "code",
   "execution_count": 39,
   "metadata": {},
   "outputs": [],
   "source": [
    "submit_predict = gbm.predict(titanic_test_final).astype(int)"
   ]
  },
  {
   "cell_type": "code",
   "execution_count": 40,
   "metadata": {},
   "outputs": [],
   "source": [
    "submission = pd.DataFrame({\n",
    "    \"PassengerId\": titanic_test_final.index,\n",
    "    \"Survived\": submit_predict\n",
    "    })\n",
    "\n",
    "submission.to_csv('titanic_gbm_submission.csv',index=False)"
   ]
  }
 ],
 "metadata": {
  "kernelspec": {
   "display_name": "Python 3",
   "language": "python",
   "name": "python3"
  },
  "language_info": {
   "codemirror_mode": {
    "name": "ipython",
    "version": 3
   },
   "file_extension": ".py",
   "mimetype": "text/x-python",
   "name": "python",
   "nbconvert_exporter": "python",
   "pygments_lexer": "ipython3",
   "version": "3.6.4"
  }
 },
 "nbformat": 4,
 "nbformat_minor": 2
}
